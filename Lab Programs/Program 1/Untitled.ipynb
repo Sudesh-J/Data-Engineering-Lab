{
 "cells": [
  {
   "cell_type": "code",
   "execution_count": 3,
   "id": "b78f246d-fdcc-4659-81f6-08dc88b9d945",
   "metadata": {},
   "outputs": [],
   "source": [
    "import pandas as pd\n",
    "import numpy as np\n",
    "import re"
   ]
  },
  {
   "cell_type": "code",
   "execution_count": 4,
   "id": "4fe52f68-e2b0-4e57-973b-1dbfdc6b7856",
   "metadata": {},
   "outputs": [],
   "source": [
    "df = pd.read_csv('customers - customers.csv')"
   ]
  },
  {
   "cell_type": "code",
   "execution_count": 5,
   "id": "1e448886-bf4a-4da0-8e8b-7c15da4cc237",
   "metadata": {},
   "outputs": [],
   "source": [
    "df = df.drop_duplicates()"
   ]
  },
  {
   "cell_type": "code",
   "execution_count": 6,
   "id": "73f3a4d5-28c3-46c9-b172-cebcfa9fe7fd",
   "metadata": {},
   "outputs": [],
   "source": [
    "def is_valid_email(email):\n",
    "    if pd.isna(email):\n",
    "        return False\n",
    "    return re.match(r\"[^@]+@[^@]+\\.[^@]+\", str(email)) is not None\n",
    "\n",
    "df['email'] = df['email'].apply(lambda x: x if is_valid_email(x) else np.nan)"
   ]
  },
  {
   "cell_type": "code",
   "execution_count": 7,
   "id": "4cf1fb7d-3e43-4a59-9cb1-85d8605f46fc",
   "metadata": {},
   "outputs": [],
   "source": [
    "# 3. Set invalid ages (<=0 or NaN) to the median age\n",
    "valid_ages = df['age'].dropna()\n",
    "valid_ages = valid_ages[valid_ages > 0]\n",
    "median_age = valid_ages.median()\n",
    "df['age'] = df['age'].apply(lambda x: median_age if pd.isna(x) or x <= 0 else x)"
   ]
  },
  {
   "cell_type": "code",
   "execution_count": 8,
   "id": "2b4d5ec9-5338-47d7-8147-203adfb56578",
   "metadata": {},
   "outputs": [],
   "source": [
    "# 4. Fill missing names and cities with 'Unknown'\n",
    "df['name'] = df['name'].fillna('Aditya')\n",
    "df['city'] = df['city'].fillna('Pune')"
   ]
  },
  {
   "cell_type": "code",
   "execution_count": 9,
   "id": "4bde0c6f-9839-4d3b-9166-2e74f9459cfc",
   "metadata": {},
   "outputs": [],
   "source": [
    "df['email'] = df['email'].fillna('abc@gmail.com')"
   ]
  },
  {
   "cell_type": "code",
   "execution_count": 10,
   "id": "2e0fd757-91e8-4127-8bb1-c2396ffb1e31",
   "metadata": {},
   "outputs": [],
   "source": [
    "df.to_csv('customers_cleaned2.csv', index=False)"
   ]
  },
  {
   "cell_type": "code",
   "execution_count": 11,
   "id": "389a1558-3cc9-4687-b4a9-8f38aca6baf1",
   "metadata": {},
   "outputs": [
    {
     "name": "stdout",
     "output_type": "stream",
     "text": [
      "Data cleaning completed. Cleaned data saved to 'customers_cleaned.csv'.\n"
     ]
    }
   ],
   "source": [
    "print(\"Data cleaning completed. Cleaned data saved to 'customers_cleaned.csv'.\")"
   ]
  },
  {
   "cell_type": "code",
   "execution_count": null,
   "id": "95c3dc25-a472-41aa-8630-e389e3f524de",
   "metadata": {},
   "outputs": [],
   "source": []
  }
 ],
 "metadata": {
  "kernelspec": {
   "display_name": "Python [conda env:base] *",
   "language": "python",
   "name": "conda-base-py"
  },
  "language_info": {
   "codemirror_mode": {
    "name": "ipython",
    "version": 3
   },
   "file_extension": ".py",
   "mimetype": "text/x-python",
   "name": "python",
   "nbconvert_exporter": "python",
   "pygments_lexer": "ipython3",
   "version": "3.13.5"
  }
 },
 "nbformat": 4,
 "nbformat_minor": 5
}
