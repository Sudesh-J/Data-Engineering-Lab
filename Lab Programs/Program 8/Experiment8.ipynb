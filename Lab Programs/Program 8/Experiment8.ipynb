{
 "cells": [
  {
   "cell_type": "code",
   "execution_count": 1,
   "id": "c0a2fa86-828b-4fd9-ac12-4f699604465a",
   "metadata": {},
   "outputs": [
    {
     "name": "stdout",
     "output_type": "stream",
     "text": [
      "Requirement already satisfied: pymongo in c:\\users\\sudes\\anaconda3\\lib\\site-packages (4.15.1)\n",
      "Requirement already satisfied: dnspython<3.0.0,>=1.16.0 in c:\\users\\sudes\\anaconda3\\lib\\site-packages (from pymongo) (2.8.0)\n"
     ]
    }
   ],
   "source": [
    "!pip install pymongo\n"
   ]
  },
  {
   "cell_type": "code",
   "execution_count": 2,
   "id": "dd00000a-1bbd-4a58-91cd-f6c0f1b86870",
   "metadata": {},
   "outputs": [],
   "source": [
    "from pymongo import MongoClient\n",
    "\n",
    "# Connect to local MongoDB\n",
    "client = MongoClient(\"mongodb://localhost:27017/\")\n",
    "\n",
    "# Access the database\n",
    "db = client[\"hospital_management\"]\n",
    "\n",
    "# Create collections\n",
    "patients_col = db[\"patients\"]\n",
    "doctors_col = db[\"doctors\"]\n",
    "appointments_col = db[\"appointments\"]\n"
   ]
  },
  {
   "cell_type": "code",
   "execution_count": 3,
   "id": "0771c38f-f0b4-400b-bc4e-5a8a969d5381",
   "metadata": {},
   "outputs": [
    {
     "name": "stdout",
     "output_type": "stream",
     "text": [
      "Sample data inserted successfully!\n"
     ]
    }
   ],
   "source": [
    "# Clear previous data (optional)\n",
    "patients_col.delete_many({})\n",
    "doctors_col.delete_many({})\n",
    "appointments_col.delete_many({})\n",
    "\n",
    "# Doctors Data\n",
    "doctors_data = [\n",
    "    {\"doctor_id\": 101, \"name\": \"Dr. Mehta\", \"specialization\": \"Cardiologist\", \"experience\": 10},\n",
    "    {\"doctor_id\": 102, \"name\": \"Dr. Kapoor\", \"specialization\": \"Orthopedic\", \"experience\": 8},\n",
    "    {\"doctor_id\": 103, \"name\": \"Dr. Singh\", \"specialization\": \"Neurologist\", \"experience\": 12},\n",
    "    {\"doctor_id\": 104, \"name\": \"Dr. Desai\", \"specialization\": \"Dermatologist\", \"experience\": 5}\n",
    "]\n",
    "doctors_col.insert_many(doctors_data)\n",
    "\n",
    "# Patients Data\n",
    "patients_data = [\n",
    "    {\"patient_id\": 1, \"name\": \"Rahul Sharma\", \"age\": 29, \"gender\": \"Male\", \"disease\": \"Fever\", \"doctor_assigned\": \"Dr. Mehta\"},\n",
    "    {\"patient_id\": 2, \"name\": \"Sneha Patel\", \"age\": 34, \"gender\": \"Female\", \"disease\": \"Back Pain\", \"doctor_assigned\": \"Dr. Kapoor\"},\n",
    "    {\"patient_id\": 3, \"name\": \"Vikram Rao\", \"age\": 45, \"gender\": \"Male\", \"disease\": \"Migraine\", \"doctor_assigned\": \"Dr. Singh\"},\n",
    "    {\"patient_id\": 4, \"name\": \"Priya Nair\", \"age\": 27, \"gender\": \"Female\", \"disease\": \"Skin Allergy\", \"doctor_assigned\": \"Dr. Desai\"},\n",
    "    {\"patient_id\": 5, \"name\": \"Arjun Verma\", \"age\": 51, \"gender\": \"Male\", \"disease\": \"Heart Disease\", \"doctor_assigned\": \"Dr. Mehta\"}\n",
    "]\n",
    "patients_col.insert_many(patients_data)\n",
    "\n",
    "# Appointments Data\n",
    "appointments_data = [\n",
    "    {\"appointment_id\": 1001, \"patient_name\": \"Rahul Sharma\", \"doctor_name\": \"Dr. Mehta\", \"date\": \"2025-10-27\", \"status\": \"Completed\"},\n",
    "    {\"appointment_id\": 1002, \"patient_name\": \"Sneha Patel\", \"doctor_name\": \"Dr. Kapoor\", \"date\": \"2025-10-28\", \"status\": \"Scheduled\"},\n",
    "    {\"appointment_id\": 1003, \"patient_name\": \"Vikram Rao\", \"doctor_name\": \"Dr. Singh\", \"date\": \"2025-10-29\", \"status\": \"Cancelled\"},\n",
    "    {\"appointment_id\": 1004, \"patient_name\": \"Priya Nair\", \"doctor_name\": \"Dr. Desai\", \"date\": \"2025-10-30\", \"status\": \"Completed\"},\n",
    "    {\"appointment_id\": 1005, \"patient_name\": \"Arjun Verma\", \"doctor_name\": \"Dr. Mehta\", \"date\": \"2025-11-01\", \"status\": \"Scheduled\"}\n",
    "]\n",
    "appointments_col.insert_many(appointments_data)\n",
    "\n",
    "print(\"Sample data inserted successfully!\")\n"
   ]
  },
  {
   "cell_type": "code",
   "execution_count": 4,
   "id": "2ee08fb9-9de6-48f4-9bb4-18c56a1b0c2b",
   "metadata": {},
   "outputs": [
    {
     "name": "stdout",
     "output_type": "stream",
     "text": [
      "---- All Patients ----\n",
      "{'_id': ObjectId('6900e075b5e9bace28607e51'), 'patient_id': 1, 'name': 'Rahul Sharma', 'age': 29, 'gender': 'Male', 'disease': 'Fever', 'doctor_assigned': 'Dr. Mehta'}\n",
      "{'_id': ObjectId('6900e075b5e9bace28607e52'), 'patient_id': 2, 'name': 'Sneha Patel', 'age': 34, 'gender': 'Female', 'disease': 'Back Pain', 'doctor_assigned': 'Dr. Kapoor'}\n",
      "{'_id': ObjectId('6900e075b5e9bace28607e53'), 'patient_id': 3, 'name': 'Vikram Rao', 'age': 45, 'gender': 'Male', 'disease': 'Migraine', 'doctor_assigned': 'Dr. Singh'}\n",
      "{'_id': ObjectId('6900e075b5e9bace28607e54'), 'patient_id': 4, 'name': 'Priya Nair', 'age': 27, 'gender': 'Female', 'disease': 'Skin Allergy', 'doctor_assigned': 'Dr. Desai'}\n",
      "{'_id': ObjectId('6900e075b5e9bace28607e55'), 'patient_id': 5, 'name': 'Arjun Verma', 'age': 51, 'gender': 'Male', 'disease': 'Heart Disease', 'doctor_assigned': 'Dr. Mehta'}\n",
      "\n",
      "---- Doctors ----\n",
      "{'_id': ObjectId('6900e075b5e9bace28607e4d'), 'doctor_id': 101, 'name': 'Dr. Mehta', 'specialization': 'Cardiologist', 'experience': 10}\n",
      "{'_id': ObjectId('6900e075b5e9bace28607e4e'), 'doctor_id': 102, 'name': 'Dr. Kapoor', 'specialization': 'Orthopedic', 'experience': 8}\n",
      "{'_id': ObjectId('6900e075b5e9bace28607e4f'), 'doctor_id': 103, 'name': 'Dr. Singh', 'specialization': 'Neurologist', 'experience': 12}\n",
      "{'_id': ObjectId('6900e075b5e9bace28607e50'), 'doctor_id': 104, 'name': 'Dr. Desai', 'specialization': 'Dermatologist', 'experience': 5}\n",
      "\n",
      "---- Upcoming Appointments ----\n",
      "{'_id': ObjectId('6900e075b5e9bace28607e57'), 'appointment_id': 1002, 'patient_name': 'Sneha Patel', 'doctor_name': 'Dr. Kapoor', 'date': '2025-10-28', 'status': 'Scheduled'}\n",
      "{'_id': ObjectId('6900e075b5e9bace28607e5a'), 'appointment_id': 1005, 'patient_name': 'Arjun Verma', 'doctor_name': 'Dr. Mehta', 'date': '2025-11-01', 'status': 'Scheduled'}\n"
     ]
    }
   ],
   "source": [
    "print(\"---- All Patients ----\")\n",
    "for patient in patients_col.find():\n",
    "    print(patient)\n",
    "\n",
    "print(\"\\n---- Doctors ----\")\n",
    "for doc in doctors_col.find():\n",
    "    print(doc)\n",
    "\n",
    "print(\"\\n---- Upcoming Appointments ----\")\n",
    "for appt in appointments_col.find({\"status\": \"Scheduled\"}):\n",
    "    print(appt)\n"
   ]
  },
  {
   "cell_type": "code",
   "execution_count": 5,
   "id": "29777c77-d5a4-45ce-9aff-cf553b881581",
   "metadata": {},
   "outputs": [
    {
     "name": "stdout",
     "output_type": "stream",
     "text": [
      "Data updated successfully!\n"
     ]
    }
   ],
   "source": [
    "# Update an appointment’s status\n",
    "appointments_col.update_one(\n",
    "    {\"appointment_id\": 1002},\n",
    "    {\"$set\": {\"status\": \"Completed\"}}\n",
    ")\n",
    "\n",
    "# Update patient's doctor\n",
    "patients_col.update_one(\n",
    "    {\"name\": \"Vikram Rao\"},\n",
    "    {\"$set\": {\"doctor_assigned\": \"Dr. Mehta\"}}\n",
    ")\n",
    "\n",
    "print(\"Data updated successfully!\")\n"
   ]
  },
  {
   "cell_type": "code",
   "execution_count": 6,
   "id": "503d5c4c-ffb4-4637-b581-29966746225e",
   "metadata": {},
   "outputs": [
    {
     "name": "stdout",
     "output_type": "stream",
     "text": [
      "Data deleted successfully!\n"
     ]
    }
   ],
   "source": [
    "# Delete a cancelled appointment\n",
    "appointments_col.delete_one({\"status\": \"Cancelled\"})\n",
    "\n",
    "# Delete a patient record\n",
    "patients_col.delete_one({\"name\": \"Arjun Verma\"})\n",
    "\n",
    "print(\"Data deleted successfully!\")\n"
   ]
  },
  {
   "cell_type": "code",
   "execution_count": 8,
   "id": "e524471c-0bed-4df0-90c4-15ccf82a41c5",
   "metadata": {},
   "outputs": [],
   "source": []
  },
  {
   "cell_type": "code",
   "execution_count": null,
   "id": "e395a32f-1c93-4407-b07d-8b0d44ab9970",
   "metadata": {},
   "outputs": [],
   "source": []
  }
 ],
 "metadata": {
  "kernelspec": {
   "display_name": "Python [conda env:base] *",
   "language": "python",
   "name": "conda-base-py"
  },
  "language_info": {
   "codemirror_mode": {
    "name": "ipython",
    "version": 3
   },
   "file_extension": ".py",
   "mimetype": "text/x-python",
   "name": "python",
   "nbconvert_exporter": "python",
   "pygments_lexer": "ipython3",
   "version": "3.13.5"
  }
 },
 "nbformat": 4,
 "nbformat_minor": 5
}
