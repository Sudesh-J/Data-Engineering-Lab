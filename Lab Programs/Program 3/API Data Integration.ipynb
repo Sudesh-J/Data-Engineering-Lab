{
 "cells": [
  {
   "cell_type": "code",
   "execution_count": 4,
   "id": "fb8506aa-b674-4067-906d-b6c70cb8487f",
   "metadata": {},
   "outputs": [
    {
     "name": "stdout",
     "output_type": "stream",
     "text": [
      "Requirement already satisfied: requests in c:\\users\\sudes\\anaconda3\\lib\\site-packages (2.32.3)\n",
      "Requirement already satisfied: pandas in c:\\users\\sudes\\anaconda3\\lib\\site-packages (2.2.3)\n",
      "Requirement already satisfied: sqlalchemy in c:\\users\\sudes\\anaconda3\\lib\\site-packages (2.0.39)\n",
      "Requirement already satisfied: charset-normalizer<4,>=2 in c:\\users\\sudes\\anaconda3\\lib\\site-packages (from requests) (3.3.2)\n",
      "Requirement already satisfied: idna<4,>=2.5 in c:\\users\\sudes\\anaconda3\\lib\\site-packages (from requests) (3.7)\n",
      "Requirement already satisfied: urllib3<3,>=1.21.1 in c:\\users\\sudes\\anaconda3\\lib\\site-packages (from requests) (2.3.0)\n",
      "Requirement already satisfied: certifi>=2017.4.17 in c:\\users\\sudes\\anaconda3\\lib\\site-packages (from requests) (2025.8.3)\n",
      "Requirement already satisfied: numpy>=1.26.0 in c:\\users\\sudes\\anaconda3\\lib\\site-packages (from pandas) (2.1.3)\n",
      "Requirement already satisfied: python-dateutil>=2.8.2 in c:\\users\\sudes\\anaconda3\\lib\\site-packages (from pandas) (2.9.0.post0)\n",
      "Requirement already satisfied: pytz>=2020.1 in c:\\users\\sudes\\anaconda3\\lib\\site-packages (from pandas) (2024.1)\n",
      "Requirement already satisfied: tzdata>=2022.7 in c:\\users\\sudes\\anaconda3\\lib\\site-packages (from pandas) (2025.2)\n",
      "Requirement already satisfied: greenlet!=0.4.17 in c:\\users\\sudes\\anaconda3\\lib\\site-packages (from sqlalchemy) (3.1.1)\n",
      "Requirement already satisfied: typing-extensions>=4.6.0 in c:\\users\\sudes\\anaconda3\\lib\\site-packages (from sqlalchemy) (4.12.2)\n",
      "Requirement already satisfied: six>=1.5 in c:\\users\\sudes\\anaconda3\\lib\\site-packages (from python-dateutil>=2.8.2->pandas) (1.17.0)\n",
      "Requirement already satisfied: psycopg2-binary in c:\\users\\sudes\\anaconda3\\lib\\site-packages (2.9.10)\n",
      "Collecting pymysql\n",
      "  Downloading pymysql-1.1.2-py3-none-any.whl.metadata (4.3 kB)\n",
      "Downloading pymysql-1.1.2-py3-none-any.whl (45 kB)\n",
      "Installing collected packages: pymysql\n",
      "Successfully installed pymysql-1.1.2\n"
     ]
    }
   ],
   "source": [
    "!pip install requests pandas sqlalchemy\n",
    "!pip install --user psycopg2-binary\n",
    "!pip install pymysql\n"
   ]
  },
  {
   "cell_type": "code",
   "execution_count": 5,
   "id": "5cfd7a7d-aa19-4c0e-a0c8-4ebbfe8799b8",
   "metadata": {},
   "outputs": [],
   "source": [
    "import os\n",
    "import requests\n",
    "import pandas as pd\n",
    "from sqlalchemy import create_engine, text\n",
    "from urllib.parse import quote_plus\n",
    "from datetime import date"
   ]
  },
  {
   "cell_type": "code",
   "execution_count": 31,
   "id": "1137599c-7dbe-4f29-a5f6-47e0f8c07ed9",
   "metadata": {},
   "outputs": [],
   "source": [
    "API_KEY = \"API_KEY\" \n",
    "CITY = \"Pune\""
   ]
  },
  {
   "cell_type": "code",
   "execution_count": 32,
   "id": "739a6320-f812-400a-8c65-967fd79a4ab0",
   "metadata": {},
   "outputs": [],
   "source": [
    "USER = \"root\"\n",
    "PASSWORD = \"PASSWORD\" \n",
    "HOST = \"127.0.0.1\" \n",
    "PORT = 3306\n",
    "DB = \"dma\""
   ]
  },
  {
   "cell_type": "code",
   "execution_count": 33,
   "id": "40278d0f-9ef0-4791-b551-4ff68e660695",
   "metadata": {},
   "outputs": [],
   "source": [
    "from datetime import date\n",
    "from urllib.parse import quote_plus\n",
    "import requests\n",
    "\n",
    "MYSQL_CONN_STRING = f\"mysql+pymysql://{USER}:{quote_plus(PASSWORD)}@{HOST}:{PORT}/{DB}\"\n",
    "\n",
    "def fetch_weather(api_key: str, city: str) -> dict:\n",
    "    url = \"https://api.openweathermap.org/data/2.5/weather\"\n",
    "    params = {\"q\": city, \"appid\": api_key.strip(), \"units\": \"metric\"}\n",
    "\n",
    "    r = requests.get(url, params=params, timeout=20)\n",
    "    if r.status_code != 200:\n",
    "        try:\n",
    "            print(\"OpenWeather error payload:\", r.json())\n",
    "        except Exception:\n",
    "            print(\"OpenWeather non-JSON response:\", r.text)\n",
    "        r.raise_for_status()\n",
    "\n",
    "    data = r.json()\n",
    "    return {\n",
    "        \"weather_date\": date.today(),\n",
    "        \"city\": city,\n",
    "        \"temp_c\": data[\"main\"][\"temp\"],\n",
    "        \"humidity\": data[\"main\"][\"humidity\"],\n",
    "        \"description\": data[\"weather\"][0][\"description\"],\n",
    "    }\n"
   ]
  },
  {
   "cell_type": "code",
   "execution_count": 36,
   "id": "0bf0a500-7eab-4e41-bd0a-0bd989d4287c",
   "metadata": {},
   "outputs": [
    {
     "name": "stdout",
     "output_type": "stream",
     "text": [
      "Weather data for Pune stored successfully in MySQL.\n"
     ]
    }
   ],
   "source": [
    "from sqlalchemy import create_engine, text\n",
    "import pandas as pd\n",
    "\n",
    "def ensure_weather_table(engine) -> None:\n",
    "    ddl = \"\"\"\n",
    "    CREATE TABLE IF NOT EXISTS weather (\n",
    "        weather_date DATE NOT NULL,\n",
    "        city VARCHAR(100) NOT NULL,\n",
    "        temp_c DECIMAL(5,2),\n",
    "        humidity INT,\n",
    "        description VARCHAR(255)\n",
    "    )\n",
    "    \"\"\"\n",
    "    with engine.begin() as conn:\n",
    "        conn.execute(text(ddl))\n",
    "\n",
    "\n",
    "def store_weather_to_db(weather_data: dict, conn_string: str) -> None:\n",
    "\n",
    "    engine = create_engine(conn_string, pool_pre_ping=True)\n",
    "    ensure_weather_table(engine)\n",
    "    try:\n",
    "        df = pd.DataFrame([weather_data])\n",
    "        df.to_sql(\"weather\", engine, if_exists=\"append\", index=False)\n",
    "        print(f\"Weather data for {weather_data['city']} stored successfully in MySQL.\")\n",
    "    finally:\n",
    "        engine.dispose()\n",
    "\n",
    "\n",
    "def main():\n",
    "    weather = fetch_weather(API_KEY, CITY)\n",
    "    store_weather_to_db(weather, MYSQL_CONN_STRING)\n",
    "\n",
    "\n",
    "if __name__ == \"__main__\":\n",
    "    main()\n"
   ]
  },
  {
   "cell_type": "code",
   "execution_count": 37,
   "id": "a9871d10-4a1a-4798-a676-a5f793e55b10",
   "metadata": {},
   "outputs": [
    {
     "data": {
      "text/html": [
       "<div>\n",
       "<style scoped>\n",
       "    .dataframe tbody tr th:only-of-type {\n",
       "        vertical-align: middle;\n",
       "    }\n",
       "\n",
       "    .dataframe tbody tr th {\n",
       "        vertical-align: top;\n",
       "    }\n",
       "\n",
       "    .dataframe thead th {\n",
       "        text-align: right;\n",
       "    }\n",
       "</style>\n",
       "<table border=\"1\" class=\"dataframe\">\n",
       "  <thead>\n",
       "    <tr style=\"text-align: right;\">\n",
       "      <th></th>\n",
       "      <th>weather_date</th>\n",
       "      <th>city</th>\n",
       "      <th>temp_c</th>\n",
       "      <th>humidity</th>\n",
       "      <th>description</th>\n",
       "    </tr>\n",
       "  </thead>\n",
       "  <tbody>\n",
       "    <tr>\n",
       "      <th>0</th>\n",
       "      <td>2025-09-23</td>\n",
       "      <td>Pune</td>\n",
       "      <td>23.0</td>\n",
       "      <td>89</td>\n",
       "      <td>broken clouds</td>\n",
       "    </tr>\n",
       "    <tr>\n",
       "      <th>1</th>\n",
       "      <td>2025-09-23</td>\n",
       "      <td>Pune</td>\n",
       "      <td>23.0</td>\n",
       "      <td>89</td>\n",
       "      <td>broken clouds</td>\n",
       "    </tr>\n",
       "  </tbody>\n",
       "</table>\n",
       "</div>"
      ],
      "text/plain": [
       "  weather_date  city  temp_c  humidity    description\n",
       "0   2025-09-23  Pune    23.0        89  broken clouds\n",
       "1   2025-09-23  Pune    23.0        89  broken clouds"
      ]
     },
     "execution_count": 37,
     "metadata": {},
     "output_type": "execute_result"
    }
   ],
   "source": [
    "import pandas as pd\n",
    "from sqlalchemy import create_engine\n",
    "\n",
    "# Connect to MySQL\n",
    "engine = create_engine(MYSQL_CONN_STRING)\n",
    "\n",
    "# Read the weather table into a DataFrame\n",
    "df = pd.read_sql(\"SELECT * FROM weather\", engine)\n",
    "\n",
    "# Display the table\n",
    "df\n"
   ]
  },
  {
   "cell_type": "code",
   "execution_count": null,
   "id": "0a4a7657-a310-4f9b-95e6-e1eb8de53753",
   "metadata": {},
   "outputs": [],
   "source": []
  }
 ],
 "metadata": {
  "kernelspec": {
   "display_name": "Python [conda env:base] *",
   "language": "python",
   "name": "conda-base-py"
  },
  "language_info": {
   "codemirror_mode": {
    "name": "ipython",
    "version": 3
   },
   "file_extension": ".py",
   "mimetype": "text/x-python",
   "name": "python",
   "nbconvert_exporter": "python",
   "pygments_lexer": "ipython3",
   "version": "3.13.5"
  }
 },
 "nbformat": 4,
 "nbformat_minor": 5
}
