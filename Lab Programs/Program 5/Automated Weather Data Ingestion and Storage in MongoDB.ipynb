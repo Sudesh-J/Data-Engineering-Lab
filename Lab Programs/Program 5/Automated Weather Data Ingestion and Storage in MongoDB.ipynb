{
 "cells": [
  {
   "cell_type": "code",
   "execution_count": 23,
   "id": "dcb249bc-797c-49e9-9607-4f575a8aedee",
   "metadata": {},
   "outputs": [
    {
     "name": "stdout",
     "output_type": "stream",
     "text": [
      "Requirement already satisfied: requests in c:\\users\\sudes\\anaconda3\\lib\\site-packages (2.32.3)\n",
      "Requirement already satisfied: pymongo in c:\\users\\sudes\\anaconda3\\lib\\site-packages (4.15.1)\n",
      "Requirement already satisfied: pandas in c:\\users\\sudes\\anaconda3\\lib\\site-packages (2.2.3)\n",
      "Requirement already satisfied: charset-normalizer<4,>=2 in c:\\users\\sudes\\anaconda3\\lib\\site-packages (from requests) (3.3.2)\n",
      "Requirement already satisfied: idna<4,>=2.5 in c:\\users\\sudes\\anaconda3\\lib\\site-packages (from requests) (3.7)\n",
      "Requirement already satisfied: urllib3<3,>=1.21.1 in c:\\users\\sudes\\anaconda3\\lib\\site-packages (from requests) (2.3.0)\n",
      "Requirement already satisfied: certifi>=2017.4.17 in c:\\users\\sudes\\anaconda3\\lib\\site-packages (from requests) (2025.8.3)\n",
      "Requirement already satisfied: dnspython<3.0.0,>=1.16.0 in c:\\users\\sudes\\anaconda3\\lib\\site-packages (from pymongo) (2.8.0)\n",
      "Requirement already satisfied: numpy>=1.26.0 in c:\\users\\sudes\\anaconda3\\lib\\site-packages (from pandas) (2.1.3)\n",
      "Requirement already satisfied: python-dateutil>=2.8.2 in c:\\users\\sudes\\anaconda3\\lib\\site-packages (from pandas) (2.9.0.post0)\n",
      "Requirement already satisfied: pytz>=2020.1 in c:\\users\\sudes\\anaconda3\\lib\\site-packages (from pandas) (2024.1)\n",
      "Requirement already satisfied: tzdata>=2022.7 in c:\\users\\sudes\\anaconda3\\lib\\site-packages (from pandas) (2025.2)\n",
      "Requirement already satisfied: six>=1.5 in c:\\users\\sudes\\anaconda3\\lib\\site-packages (from python-dateutil>=2.8.2->pandas) (1.17.0)\n",
      "Note: you may need to restart the kernel to use updated packages.\n"
     ]
    }
   ],
   "source": [
    "pip install requests pymongo pandas"
   ]
  },
  {
   "cell_type": "code",
   "execution_count": 24,
   "id": "ea518736-20c7-4a90-98cf-40b6c79b2f90",
   "metadata": {},
   "outputs": [],
   "source": [
    "\n",
    "import os\n",
    "from datetime import datetime, timezone\n",
    "import requests\n",
    "from pymongo import MongoClient, ASCENDING\n",
    "from datetime import datetime, timezone"
   ]
  },
  {
   "cell_type": "code",
   "execution_count": 46,
   "id": "b265dc84-0d3b-4db4-ad82-fefec6ce37ed",
   "metadata": {},
   "outputs": [],
   "source": [
    "API_KEY = \"API KEY\"  \n",
    "CITY    = \"Pune\"\n",
    "\n",
    "MONGO_URI   = os.getenv(\"MONGO_URI\", \"mongodb://127.0.0.1:27017\")\n",
    "DB_NAME     = \"sales_weatherinfo_db\"\n",
    "WEATHER_COL = \"weather\"   # existing collection is fine"
   ]
  },
  {
   "cell_type": "code",
   "execution_count": 47,
   "id": "ad0c4a54-6385-4f1b-a5bf-b4a96620386e",
   "metadata": {},
   "outputs": [],
   "source": [
    "def midnight_utc_naive(dt_utc: datetime) -> datetime:\n",
    "    dt_utc = dt_utc.astimezone(timezone.utc)\n",
    "    return datetime(dt_utc.year, dt_utc.month, dt_utc.day, 0, 0, 0, 0)"
   ]
  },
  {
   "cell_type": "code",
   "execution_count": 48,
   "id": "262b6e45-92c4-4a38-bbba-c6ab6c499e27",
   "metadata": {},
   "outputs": [],
   "source": [
    "def ensure_indexes(col):\n",
    "    # Idempotent\n",
    "    col.create_index([(\"weather_date\", ASCENDING), (\"city\", ASCENDING)], unique=True)\n",
    "    col.create_index([(\"city\", ASCENDING), (\"weather_date\", ASCENDING)])"
   ]
  },
  {
   "cell_type": "code",
   "execution_count": 49,
   "id": "cb4d75f8-f6fe-4ecc-9f77-18bedd843c92",
   "metadata": {},
   "outputs": [],
   "source": [
    "def upsert_weather(doc: dict, col):\n",
    "    col.update_one(\n",
    "        {\"weather_date\": doc[\"weather_date\"], \"city\": doc[\"city\"]},\n",
    "        {\"$set\": doc},\n",
    "        upsert=True\n",
    "    )"
   ]
  },
  {
   "cell_type": "code",
   "execution_count": 50,
   "id": "06d77287-73ec-4793-a168-97ac982954a7",
   "metadata": {},
   "outputs": [],
   "source": [
    "def fetch_weather_live(api_key: str, city: str) -> dict:\n",
    "    url = \"https://api.openweathermap.org/data/2.5/weather\"\n",
    "    params = {\"q\": city, \"appid\": api_key.strip(), \"units\": \"metric\"}\n",
    "\n",
    "    try:\n",
    "        r = requests.get(url, params=params, timeout=20)\n",
    "    except requests.RequestException as e:\n",
    "        raise RuntimeError(f\"Network error calling OpenWeather: {e}\")\n",
    "\n",
    "    # Fail loud with the exact API message (401, 404, 429, etc.)\n",
    "    if not r.ok:\n",
    "        try:\n",
    "            msg = r.json()\n",
    "        except Exception:\n",
    "            msg = r.text\n",
    "        raise RuntimeError(f\"OpenWeather error {r.status_code}: {msg} | url={r.url}\")\n",
    "\n",
    "    data = r.json()\n",
    "    return {\n",
    "        \"weather_date\": datetime.now(timezone.utc).replace(hour=0, minute=0, second=0, microsecond=0),  # BSON Date at midnight UTC\n",
    "        \"city\": city,\n",
    "        \"temp_c\": float(data[\"main\"][\"temp\"]),\n",
    "        \"humidity\": int(data[\"main\"][\"humidity\"]),\n",
    "        \"description\": str(data[\"weather\"][0][\"description\"]),\n",
    "        \"fetched_at\": datetime.now(timezone.utc),  # full timestamp of fetch\n",
    "        \"source\": \"openweather\"\n",
    "    }"
   ]
  },
  {
   "cell_type": "code",
   "execution_count": 51,
   "id": "6517b519-e11a-4f77-9afb-84616080d657",
   "metadata": {},
   "outputs": [],
   "source": [
    "def main():\n",
    "    # Basic sanity check on key\n",
    "    if not API_KEY or len(API_KEY.strip()) != 32:\n",
    "        raise ValueError(\"OPENWEATHER API key looks invalid. Expected 32 chars.\")\n",
    "\n",
    "    client = MongoClient(MONGO_URI)\n",
    "    col = client[DB_NAME][WEATHER_COL]\n",
    "\n",
    "    ensure_indexes(col)          # safe even if collection/index exists\n",
    "    doc = fetch_weather_live(API_KEY, CITY)   # live-only; raises on error\n",
    "    upsert_weather(doc, col)\n",
    "\n",
    "    print(f\"Stored live weather for {doc['city']} on {doc['weather_date'].date()}.\")"
   ]
  },
  {
   "cell_type": "code",
   "execution_count": 52,
   "id": "4e81ad65-6665-4659-b358-693416cf6609",
   "metadata": {},
   "outputs": [
    {
     "name": "stdout",
     "output_type": "stream",
     "text": [
      "Stored live weather for Pune on 2025-09-23.\n"
     ]
    }
   ],
   "source": [
    "if __name__ == \"__main__\":\n",
    "    main()"
   ]
  },
  {
   "cell_type": "code",
   "execution_count": null,
   "id": "eb29ba2b-0be3-4b3e-b77a-c20e092be0d0",
   "metadata": {},
   "outputs": [],
   "source": []
  },
  {
   "cell_type": "code",
   "execution_count": null,
   "id": "2a5bb912-9198-4f8b-8fc5-1b3769ae9b22",
   "metadata": {},
   "outputs": [],
   "source": []
  }
 ],
 "metadata": {
  "kernelspec": {
   "display_name": "Python [conda env:base] *",
   "language": "python",
   "name": "conda-base-py"
  },
  "language_info": {
   "codemirror_mode": {
    "name": "ipython",
    "version": 3
   },
   "file_extension": ".py",
   "mimetype": "text/x-python",
   "name": "python",
   "nbconvert_exporter": "python",
   "pygments_lexer": "ipython3",
   "version": "3.13.5"
  }
 },
 "nbformat": 4,
 "nbformat_minor": 5
}
